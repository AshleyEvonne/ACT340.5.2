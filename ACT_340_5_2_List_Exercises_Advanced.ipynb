{
  "nbformat": 4,
  "nbformat_minor": 0,
  "metadata": {
    "colab": {
      "provenance": [],
      "include_colab_link": true
    },
    "kernelspec": {
      "name": "python3",
      "display_name": "Python 3"
    },
    "language_info": {
      "name": "python"
    }
  },
  "cells": [
    {
      "cell_type": "markdown",
      "metadata": {
        "id": "view-in-github",
        "colab_type": "text"
      },
      "source": [
        "<a href=\"https://colab.research.google.com/github/AshleyEvonne/ACT340.5.2/blob/main/ACT_340_5_2_List_Exercises_Advanced.ipynb\" target=\"_parent\"><img src=\"https://colab.research.google.com/assets/colab-badge.svg\" alt=\"Open In Colab\"/></a>"
      ]
    },
    {
      "cell_type": "markdown",
      "source": [
        "# List Excercises- Advanced\n",
        "\n",
        "Complete the following practice excercises below to build up your skills with manipulating lists."
      ],
      "metadata": {
        "id": "qK41rEENgA65"
      }
    },
    {
      "cell_type": "markdown",
      "source": [
        "**Problem 1**\n",
        "\n",
        "\n",
        "\n",
        "*   Using the list below, use a Class method to add the string \"skirt\" to the end of the list.\n",
        "\n"
      ],
      "metadata": {
        "id": "Q2j3l_wyf-UH"
      }
    },
    {
      "cell_type": "code",
      "source": [
        "clothing= ['socks', 'pants', 'shirt', 'polo']\n",
        "\n",
        "clothing.append(\"skirt\")\n",
        "print(clothing)"
      ],
      "metadata": {
        "id": "hbDcD9R0fiJd",
        "outputId": "adc29f6e-a818-4658-dfe4-3ca290c405ce",
        "colab": {
          "base_uri": "https://localhost:8080/"
        }
      },
      "execution_count": 3,
      "outputs": [
        {
          "output_type": "stream",
          "name": "stdout",
          "text": [
            "['socks', 'pants', 'shirt', 'polo', 'skirt']\n"
          ]
        }
      ]
    },
    {
      "cell_type": "markdown",
      "source": [
        "**Problem 2**\n",
        "\n",
        "\n",
        "\n",
        "*   Using the same list as above, add a list to the 2nd index that includes the following strings:\n",
        "> 'suit jacket', 'suit pants', 'tie', 'button down'\n",
        "\n",
        "\n",
        "\n"
      ],
      "metadata": {
        "id": "y356o0Fjf5F_"
      }
    },
    {
      "cell_type": "code",
      "source": [
        "clothing.insert(2,['suit jacket', 'suit pants', 'tie', 'button down'])\n",
        "print(clothing)"
      ],
      "metadata": {
        "id": "nWyQ5oVmghJz",
        "outputId": "c5641f16-8a3b-4c65-84b2-9011c548d966",
        "colab": {
          "base_uri": "https://localhost:8080/"
        }
      },
      "execution_count": 5,
      "outputs": [
        {
          "output_type": "stream",
          "name": "stdout",
          "text": [
            "['socks', 'pants', ['suit jacket', 'suit pants', 'tie', 'button down'], 'shirt', 'polo', 'skirt']\n"
          ]
        }
      ]
    },
    {
      "cell_type": "markdown",
      "source": [
        "**Problem 3**\n",
        "\n",
        "\n",
        "\n",
        "*   Use the list below and use a Class method to get the total number of times the integer 14 appears in the list.\n",
        "\n"
      ],
      "metadata": {
        "id": "ibOLVpd9ghnV"
      }
    },
    {
      "cell_type": "code",
      "source": [
        "nums= [2, 150, 14, 36, 78, 81, 14, 1000, 54, 14, 14]\n",
        "print(nums.count(14))"
      ],
      "metadata": {
        "id": "uew5D-NjgzGu",
        "outputId": "699b8c5b-e8e5-499c-c948-58c17342a307",
        "colab": {
          "base_uri": "https://localhost:8080/"
        }
      },
      "execution_count": 6,
      "outputs": [
        {
          "output_type": "stream",
          "name": "stdout",
          "text": [
            "4\n"
          ]
        }
      ]
    },
    {
      "cell_type": "markdown",
      "source": [
        "**Problem 4**\n",
        "\n",
        "\n",
        "*  Use the same list as above\n",
        "*  Use a built-in function to find the total of all the numbers in the list.\n",
        "\n"
      ],
      "metadata": {
        "id": "06UCPuTZhCfh"
      }
    },
    {
      "cell_type": "code",
      "source": [
        "print(sum(nums))"
      ],
      "metadata": {
        "id": "uvbtynLshN7h",
        "outputId": "4d1e75a1-5416-4b2b-d2c9-146632a2844e",
        "colab": {
          "base_uri": "https://localhost:8080/"
        }
      },
      "execution_count": 7,
      "outputs": [
        {
          "output_type": "stream",
          "name": "stdout",
          "text": [
            "1457\n"
          ]
        }
      ]
    },
    {
      "cell_type": "markdown",
      "source": [
        "**Problem 5**\n",
        "\n",
        "\n",
        "\n",
        "*   Use the same list as above\n",
        "*   Slice the list so that it is reversed without using the .reverse() method\n",
        "\n"
      ],
      "metadata": {
        "id": "2y7Vph1ThSqQ"
      }
    },
    {
      "cell_type": "code",
      "source": [
        "newNum = nums[::-1]\n",
        "print(newNum)"
      ],
      "metadata": {
        "id": "jFRwVKvyh6ip",
        "outputId": "efa37202-d76f-44f2-ac4e-a3b5e6c4a3a0",
        "colab": {
          "base_uri": "https://localhost:8080/"
        }
      },
      "execution_count": 17,
      "outputs": [
        {
          "output_type": "stream",
          "name": "stdout",
          "text": [
            "[14, 14, 54, 1000, 14, 81, 78, 36, 14, 150, 2]\n"
          ]
        }
      ]
    },
    {
      "cell_type": "markdown",
      "source": [
        "**Problem 6**\n",
        "\n",
        "\n",
        "\n",
        "*   Use the list below.\n",
        "*   Slice the list so only the last two elements are included in the slice.\n",
        "\n"
      ],
      "metadata": {
        "id": "UV5mw3sXh7AL"
      }
    },
    {
      "cell_type": "code",
      "source": [
        "one_to_five= [1, 2, 3, 4, 5]\n",
        "print(one_to_five[-2:])"
      ],
      "metadata": {
        "id": "1gj4O32HiLg7",
        "outputId": "a9940ba5-ef42-4ff3-ae9f-34ddea95417f",
        "colab": {
          "base_uri": "https://localhost:8080/"
        }
      },
      "execution_count": 18,
      "outputs": [
        {
          "output_type": "stream",
          "name": "stdout",
          "text": [
            "[4, 5]\n"
          ]
        }
      ]
    },
    {
      "cell_type": "markdown",
      "source": [
        "**Problem 7**\n",
        "\n",
        "*   Use the list below\n",
        "*   Write a for loop so that every item in the list is printed\n",
        "\n"
      ],
      "metadata": {
        "id": "eO_HnwfUic9F"
      }
    },
    {
      "cell_type": "code",
      "source": [
        "animals= [\"koala\", \"cat\", \"fox\", \"panda\", \"chipmunk\", \"sloth\"]\n",
        "\n",
        "for animal in animals:\n",
        "  print(animal)"
      ],
      "metadata": {
        "id": "oJdo3DfcisLP",
        "outputId": "19d89389-6937-49f8-a35a-aff7b7cb0b45",
        "colab": {
          "base_uri": "https://localhost:8080/"
        }
      },
      "execution_count": 21,
      "outputs": [
        {
          "output_type": "stream",
          "name": "stdout",
          "text": [
            "koala\n",
            "cat\n",
            "fox\n",
            "panda\n",
            "chipmunk\n",
            "sloth\n"
          ]
        }
      ]
    },
    {
      "cell_type": "markdown",
      "source": [
        "**Problem 8**\n",
        "\n",
        "\n",
        "\n",
        "* Use the list below\n",
        "* Create a function that accepts a list as an argument\n",
        "*   Check if the data type at each index is a list\n",
        "*   If it is a list, check the length of the list. If it is greater than 3, add the second element to a new list.\n",
        "*   Return the new list\n",
        "\n",
        "\n",
        "\n",
        "\n",
        "\n"
      ],
      "metadata": {
        "id": "gmEVvlB5jG7m"
      }
    },
    {
      "cell_type": "code",
      "source": [
        "random_things= ['hello', ['breakfast', 'you', 'pencil', 2], 22, ['burrito', 'taco'],\n",
        "                [22, 'win', 33, [5], 'laptop']]\n",
        "\n",
        "def extract_second_elements(nested_list: list):\n",
        "    result = []\n",
        "\n",
        "    for item in nested_list:\n",
        "        if isinstance(item, list) and len(item) > 3:\n",
        "            result.append(item[1])\n",
        "\n",
        "    return result\n",
        "\n",
        "second_elements = extract_second_elements(random_things)\n",
        "print(second_elements)"
      ],
      "metadata": {
        "id": "RDlz_hkCj08s",
        "outputId": "9258d538-b87e-4a00-c4bd-0419d57af1a8",
        "colab": {
          "base_uri": "https://localhost:8080/"
        }
      },
      "execution_count": 28,
      "outputs": [
        {
          "output_type": "stream",
          "name": "stdout",
          "text": [
            "['you', 'win']\n"
          ]
        }
      ]
    },
    {
      "cell_type": "markdown",
      "source": [
        "**Problem 9**\n",
        "\n",
        "\n",
        "\n",
        "*   Use the list below\n",
        "*   Create a new list\n",
        "*   Use a for loop and the append() method to append each item with a Dr. prefix to the new list.\n",
        "\n",
        "\n",
        "\n",
        "\n"
      ],
      "metadata": {
        "id": "WdAG983lk4yc"
      }
    },
    {
      "cell_type": "code",
      "source": [
        "names= ['Dre', 'Seuss', 'Who', 'McCoy']\n",
        "Doctors = []\n",
        "for name in names:\n",
        "  Doctors.append(\"Dr.\"+name)\n",
        "print(Doctors)"
      ],
      "metadata": {
        "id": "jRp_K6kOlTDx"
      },
      "execution_count": null,
      "outputs": []
    },
    {
      "cell_type": "markdown",
      "source": [
        "**Problem 10**\n",
        "\n",
        "\n",
        "\n",
        "*   Use the list below\n",
        "*   Use a while loop, iterate through the list and if there is an integer 100, print a message that says what index the 100 is at\n",
        "*   Example: \"There is a 100 at index no: 5\"\n",
        "\n",
        "\n",
        "\n",
        "\n",
        "\n"
      ],
      "metadata": {
        "id": "aHfC8mXulwEl"
      }
    },
    {
      "cell_type": "code",
      "source": [
        "num2= [10, 99, 85, 76, 43, 2, 77, 100, 13, 12, 42, 99, -1, -100]"
      ],
      "metadata": {
        "id": "psW443glmlVe"
      },
      "execution_count": null,
      "outputs": []
    },
    {
      "cell_type": "markdown",
      "source": [
        "**Problem 11**\n",
        "\n",
        "\n",
        "\n",
        "\n",
        "*   Use the list below\n",
        "*   Create a new list\n",
        "*   Use a for loop or a whole loop to iterate through the list and append all the elements in the old list, to the new list UNLESS the element is an empty string\n",
        "\n",
        "\n"
      ],
      "metadata": {
        "id": "zV4_y6n8mzL9"
      }
    },
    {
      "cell_type": "code",
      "source": [
        "list1= [\"McDonald's\", \"Wendy's\", \"\", \"Burger King\", \"\", \"Taco Bell\"]\n",
        "new_list = []\n",
        "for i in list1:\n",
        "  if i:\n",
        "    new_list.append(i)\n",
        "print(new_list)\n"
      ],
      "metadata": {
        "id": "vCGbxhKXnKjM"
      },
      "execution_count": null,
      "outputs": []
    },
    {
      "cell_type": "code",
      "source": [
        "\n",
        "my_list = [1, 2, 3]\n",
        "another_list = [4, 5, 6]\n",
        "my_list.append(another_list)\n",
        "print(my_list)  # Output: [1, 2, 3, [4, 5, 6]]\n",
        "\n",
        "my_list = [1, 2, 3]\n",
        "another_list = [4, 5, 6]\n",
        "my_list.extend(another_list)\n",
        "  # Output: [1, 2, 3, 4, 5, 6]\n",
        "another_list.append(7)\n",
        "print(my_list,another_list)"
      ],
      "metadata": {
        "id": "gYZOUFbprwPQ"
      },
      "execution_count": null,
      "outputs": []
    },
    {
      "cell_type": "markdown",
      "source": [],
      "metadata": {
        "id": "yPurohASnUVy"
      }
    }
  ]
}